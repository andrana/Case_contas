{
 "cells": [
  {
   "cell_type": "markdown",
   "metadata": {},
   "source": [
    "<img src=\"logo.png\" width=\"200\">"
   ]
  },
  {
   "cell_type": "markdown",
   "metadata": {},
   "source": [
    "<b>Visão geral das contas de determinado período:</b><br><br>"
   ]
  },
  {
   "cell_type": "code",
   "execution_count": 31,
   "metadata": {
    "scrolled": true
   },
   "outputs": [],
   "source": [
    "#Instalando e importando bibliotecas\n",
    "%matplotlib inline\n",
    "import pandas as pd\n",
    "import matplotlib\n",
    "import matplotlib.pyplot as plt\n",
    "import seaborn as sns\n",
    "plt.style.use('ggplot')\n",
    "from IPython.display import display, HTML\n",
    "#plt.rcParams['axes.formatter.use_locale'] = True\n",
    "import numpy as np\n",
    "from datetime import datetime\n",
    "import plotly.graph_objects as go\n",
    "import squarify\n",
    "from ipywidgets import interact, interactive, fixed, interact_manual\n",
    "import os"
   ]
  },
  {
   "cell_type": "code",
   "execution_count": 32,
   "metadata": {},
   "outputs": [
    {
     "name": "stderr",
     "output_type": "stream",
     "text": [
      "Enabling notebook extension jupyter-js-widgets/extension...\n",
      "      - Validating: ok\n"
     ]
    },
    {
     "data": {
      "text/html": [
       "        <script type=\"text/javascript\">\n",
       "        window.PlotlyConfig = {MathJaxConfig: 'local'};\n",
       "        if (window.MathJax) {MathJax.Hub.Config({SVG: {font: \"STIX-Web\"}});}\n",
       "        if (typeof require !== 'undefined') {\n",
       "        require.undef(\"plotly\");\n",
       "        requirejs.config({\n",
       "            paths: {\n",
       "                'plotly': ['https://cdn.plot.ly/plotly-latest.min']\n",
       "            }\n",
       "        });\n",
       "        require(['plotly'], function(Plotly) {\n",
       "            window._Plotly = Plotly;\n",
       "        });\n",
       "        }\n",
       "        </script>\n",
       "        "
      ]
     },
     "metadata": {},
     "output_type": "display_data"
    },
    {
     "data": {
      "text/html": [
       "        <script type=\"text/javascript\">\n",
       "        window.PlotlyConfig = {MathJaxConfig: 'local'};\n",
       "        if (window.MathJax) {MathJax.Hub.Config({SVG: {font: \"STIX-Web\"}});}\n",
       "        if (typeof require !== 'undefined') {\n",
       "        require.undef(\"plotly\");\n",
       "        requirejs.config({\n",
       "            paths: {\n",
       "                'plotly': ['https://cdn.plot.ly/plotly-latest.min']\n",
       "            }\n",
       "        });\n",
       "        require(['plotly'], function(Plotly) {\n",
       "            window._Plotly = Plotly;\n",
       "        });\n",
       "        }\n",
       "        </script>\n",
       "        "
      ]
     },
     "metadata": {},
     "output_type": "display_data"
    }
   ],
   "source": [
    "#Instalando e importando bibliotecas\n",
    "from __future__ import print_function\n",
    "from ipywidgets import interact, interactive, fixed\n",
    "import ipywidgets as widgets\n",
    "!jupyter nbextension enable --py widgetsnbextension\n",
    "# Standard plotly imports\n",
    "from chart_studio.plotly import plot, iplot as py\n",
    "import plotly.graph_objects as go\n",
    "from plotly.offline import iplot, init_notebook_mode\n",
    "# Using plotly + cufflinks in offline mode\n",
    "import cufflinks\n",
    "cufflinks.go_offline(connected=True)\n",
    "init_notebook_mode(connected=True)"
   ]
  },
  {
   "cell_type": "code",
   "execution_count": 33,
   "metadata": {
    "scrolled": true
   },
   "outputs": [
    {
     "data": {
      "text/html": [
       "\n",
       "<style>\n",
       ".output_png {\n",
       "    display: table-cell;\n",
       "    text-align: center;\n",
       "    vertical-align: middle;\n",
       "}\n",
       "</style>\n"
      ],
      "text/plain": [
       "<IPython.core.display.HTML object>"
      ]
     },
     "execution_count": 33,
     "metadata": {},
     "output_type": "execute_result"
    }
   ],
   "source": [
    "#Ajustando formato de resultados\n",
    "pd.options.display.float_format = '{:,.2f}'.format\n",
    "\n",
    "from IPython.core.display import HTML\n",
    "HTML(\"\"\"\n",
    "<style>\n",
    ".output_png {\n",
    "    display: table-cell;\n",
    "    text-align: center;\n",
    "    vertical-align: middle;\n",
    "}\n",
    "</style>\n",
    "\"\"\")"
   ]
  },
  {
   "cell_type": "markdown",
   "metadata": {},
   "source": [
    "#SQL PARA GERAR O ARQUIVO cp_contas_a_pagar.xlsx (EXTRAIR UM ARQUIVO PARA CADA ANO, VIA FERRAMENTA DE SQL - NO MEU CASO NÃO PODIA CONECTAR DIRETAMENTE AO BANCO):\n",
    "SELECT * \n",
    " FROM CONTAS\n",
    "WHERE DATA BETWEEN '01-JAN-20XX' AND '31-DEZ-20XX' ---AJUSTAR O PERÍODO\n",
    "\n",
    "\n",
    "\n",
    "#SQL PARA GERAR O ARQUIVO cp_favorecido.xlsx (EXTRAIR VIA FERRAMENTA DE SQL) :\n",
    "SELECT \n",
    "       *\n",
    "FROM fornecedor"
   ]
  },
  {
   "cell_type": "code",
   "execution_count": 34,
   "metadata": {},
   "outputs": [],
   "source": [
    "#Função para escolha do ano a analisar, ajustar conforme as extrações feitas em SQL\n",
    "ano_escolhido = '2020'\n",
    "def show_stats_by_tag(ano):\n",
    "    global ano_escolhido\n",
    "    ano_escolhido = '2020'\n",
    "    ano_escolhido = (f'{ano}')\n",
    "    return\n"
   ]
  },
  {
   "cell_type": "code",
   "execution_count": 77,
   "metadata": {
    "scrolled": true
   },
   "outputs": [],
   "source": [
    "#Função para carregar a base escolhida\n",
    "def carregar_base():\n",
    "    global contas\n",
    "    path = 'bases'\n",
    "    name = '%s.xlsx' %ano_escolhido\n",
    "    endereco_arquivo = os.path.join(path, name)\n",
    "\n",
    "\n",
    "\n",
    "    #Leitura de arquivo do excel contendo histórico de contas a pagar e descrição de siglas\n",
    "    siglas_favorecidos = pd.read_excel('siglas_favorecidos_pagamentos.xlsx', sheet_name='SIGLAS_FAVORECIDOS', \n",
    "                                       dtype={'SIGLA_FAVORECIDO': 'str', 'TIPO_FAVORECIDO_DESCRICAO': 'str'})\n",
    "    siglas_tipo_pagamento = pd.read_excel('siglas_favorecidos_pagamentos.xlsx', sheet_name='SIGLAS_TIPO_PAGAMENTO',\n",
    "                                          dtype={'SIGLA_TIPO_PAGAMENTO': 'str', 'TIPO_PAGAMENTO_DESCRICAO': 'str'})\n",
    "    contas = pd.read_excel(endereco_arquivo, dtype={'SEQUENCIA': 'str', 'EMPRESA': 'str', 'DOCUMENTO': 'str',\n",
    "                                                    'DATA': 'str', 'VALOR': 'float64', 'PARCELAS': 'int', 'FAVORECIDO': 'str',\n",
    "                                                    'CNPJ_CPF_FAVORECIDO': 'str','TIPO_FAVORECIDO': 'str',\n",
    "                                                    'TIPO_PAGAMENTO': 'str', 'STATUS': 'str', 'USUARIO_LIBERACAO': 'str',\n",
    "                                                    'DATA_LIBERACAO': 'str','DATA_VENCIMENTO': 'str', \n",
    "                                                    'DATA_LIQUIDACAO': 'str', 'USUARIO_LIQUIDACAO': 'str', \n",
    "                                                    'CENTRO_CUSTO': 'str'})\n",
    "    contas['DATA'] = pd.to_datetime(contas['DATA']).dt.strftime('%d/%m/%Y')\n",
    "    contas['DATA_LIBERACAO'] = pd.to_datetime(contas['DATA_LIBERACAO']).dt.strftime('%d/%m/%Y')\n",
    "    contas['DATA_VENCIMENTO'] = pd.to_datetime(contas['DATA_VENCIMENTO']).dt.strftime('%d/%m/%Y')\n",
    "    contas['DATA_LIQUIDACAO'] = pd.to_datetime(contas['DATA_LIQUIDACAO']).dt.strftime('%d/%m/%Y')\n",
    "    #contas.head(3)\n",
    "    \n",
    "    #Unindo as bases carregadas\n",
    "    contas_com_favorecidos = pd.merge(contas,siglas_favorecidos, left_on='TIPO_FAVORECIDO', right_on='SIGLA_FAVORECIDO', \n",
    "                                      how='left')\n",
    "    contas_com_tipo_pagamento = pd.merge(contas_com_favorecidos,siglas_tipo_pagamento, left_on='TIPO_PAGAMENTO', \n",
    "                                     right_on='SIGLA_TIPO_PAGAMENTO', how='left')\n",
    "    contas = contas_com_tipo_pagamento\n",
    "    contas=contas.drop(['SIGLA_FAVORECIDO','SIGLA_TIPO_PAGAMENTO','FAVORECIDO'], axis=1)\n",
    "    del contas_com_favorecidos\n",
    "    del contas_com_tipo_pagamento\n",
    "\n",
    "    #Exibindo primeiras cinco linhas da base de contas importada do banco de dados\n",
    "    #display(HTML(contas.head().to_html(index=False)))\n",
    "    #Exibindo soma de valor transacionado por tipo de favorecido e tipo de pagamento\n",
    "    #soma_por_tipo = contas.groupby(['TIPO_FAVORECIDO_DESCRICAO','TIPO_PAGAMENTO_DESCRICAO'])[['VALOR']].sum()\n",
    "    #display(HTML(soma_por_tipo.to_html(index=True)))\n",
    "    return contas"
   ]
  },
  {
   "cell_type": "code",
   "execution_count": 54,
   "metadata": {
    "scrolled": true
   },
   "outputs": [],
   "source": [
    "#Criando função pra exibir os valores de cada favorecido, \n",
    "#para um grupo de tipo de pagamento e de tipo de favorecido escolhido pelo usuário\n",
    "def fun_detalhe_a():\n",
    "    global detalhe_a\n",
    "    detalhe_a = contas_selecionadas_usuario\n",
    "    global detalhe_b\n",
    "    detalhe_b = detalhe_a.groupby(['CNPJ_CPF_FAVORECIDO'],as_index=False)[['VALOR']].sum()\n",
    "    detalhe_b.sort_values(by='VALOR', ascending=False)\n",
    "    return (detalhe_a, detalhe_b);"
   ]
  },
  {
   "cell_type": "code",
   "execution_count": 55,
   "metadata": {
    "scrolled": true
   },
   "outputs": [],
   "source": [
    "#Criando função para obter o valor médio e o limite superior de análise com dois desvios\n",
    "def fun_limite_superior():\n",
    "    media = detalhe_b['VALOR'].mean()\n",
    "    mediana = detalhe_b['VALOR'].median()\n",
    "    desvio_padrao = detalhe_b['VALOR'].std(ddof=0)\n",
    "    global limite_superior\n",
    "    limite_superior = media + 2* desvio_padrao\n",
    "    print('\\033[1m' + '\\nPara o grupo selecionado, foram calculados os valores a seguir:')\n",
    "    print('\\033[0m' + 'Média = ',f'{media:,.2f}')\n",
    "    print('Mediana = ',f'{mediana:,.2f}')\n",
    "    print('Desvio padrão = ',f'{desvio_padrao:,.2f}')\n",
    "    print('Limite superior = ',f'{limite_superior:,.2f}')\n",
    "    return(limite_superior);"
   ]
  },
  {
   "cell_type": "code",
   "execution_count": 56,
   "metadata": {
    "scrolled": false
   },
   "outputs": [],
   "source": [
    "#Criando função para definir quais os favorecidos que serão analisados no grupo\n",
    "#trazendo dados dos favorecidos, de outra base em excel\n",
    "\n",
    "import warnings\n",
    "with warnings.catch_warnings():\n",
    "    warnings.filterwarnings(\"ignore\",category=DeprecationWarning)\n",
    "\n",
    "def fun_detalhe_c_com_dados():\n",
    "\n",
    "    import plotly.graph_objs\n",
    "    detalhe_c = detalhe_b.loc[(detalhe_b['VALOR'] > limite_superior)]\n",
    "    print('\\033[1m' + 'Considerando o limite superior do grupo, cabe análise mais detalhada dos favorecidos a seguir:')\n",
    "    \n",
    "    base_favorecidos = pd.read_excel('cp_favorecido.xlsx', \n",
    "                                     dtype={'CODIGO': 'str', 'CPF_CNPJ_FAVORECIDO': 'str', 'RAZAO_SOCIAL': 'str'})\n",
    "    \n",
    "    base_favorecidos.CNPJ_CPF_FAVORECIDO = base_favorecidos.CNPJ_CPF_FAVORECIDO.astype('str')\n",
    "    base_favorecidos = base_favorecidos.sort_values(by=['CNPJ_CPF_FAVORECIDO','CODIGO'])\n",
    "    base_favorecidos = base_favorecidos.drop_duplicates(subset='CNPJ_CPF_FAVORECIDO', keep=\"last\")\n",
    "    \n",
    "    \n",
    "    #base_favorecidos = base_favorecidos.rename(columns={\"CPF_CNPJ\":\"CNPJ_CPF_FAVORECIDO\"})\n",
    "    base_favorecidos=base_favorecidos.drop(['CODIGO'], axis=1)\n",
    "    \n",
    "    global detalhe_c_com_dados\n",
    "    detalhe_c_com_dados = pd.merge(detalhe_c,base_favorecidos, how='left', on='CNPJ_CPF_FAVORECIDO')\n",
    "    detalhe_c_com_dados['RAZAO_SOCIAL'].fillna('N localizado base_favorecidos', inplace=True)\n",
    "    detalhe_c_com_dados.sort_values(by='VALOR', ascending=False)\n",
    "    trace1 = go.Bar(\n",
    "                x = detalhe_c_com_dados.RAZAO_SOCIAL,\n",
    "                y = detalhe_c_com_dados.VALOR,\n",
    "                name = \"VALOR\",\n",
    "                marker = dict(color = '#008295',\n",
    "                             line=dict(color='rgb(0,0,0)',width=1),\n",
    "                             opacity=0.6))\n",
    "    data = [trace1]\n",
    "    layout = go.Layout(barmode = \"group\",xaxis = go.XAxis(title = 'Favorecido',showticklabels=False),)\n",
    "    fig3 = go.Figure(data = data, layout = layout)\n",
    "    #fig3.update_layout(autosize=False,width=500,height=500)\n",
    "    #fig3.update_xaxes(side='right',tickangle=45,automargin=False)\n",
    "\n",
    "    iplot(fig3) \n",
    "\n",
    "    if (detalhe_c_com_dados).shape[0] == 0:\n",
    "        norm = matplotlib.colors.Normalize(vmin=(1), vmax=(1))\n",
    "    else:\n",
    "        norm = matplotlib.colors.Normalize(vmin=min(detalhe_c_com_dados.VALOR), vmax=max(detalhe_c_com_dados.VALOR))\n",
    "    \n",
    "    colors = [matplotlib.cm.Blues(norm(value)) for value in detalhe_c_com_dados.VALOR]\n",
    "    fig = plt.gcf()\n",
    "    ax = fig.add_subplot()\n",
    "    ax.set_xticks([])\n",
    "    ax.set_yticks([])\n",
    "    fig.set_size_inches(18, 8)\n",
    "    labels = [\"%s\\n%.2f\" % (label) for label in zip(detalhe_c_com_dados.RAZAO_SOCIAL, detalhe_c_com_dados.VALOR)]\n",
    "    squarify.plot(label=labels,\n",
    "                  text_kwargs={'fontsize':10, 'fontname':\"Arial\",'weight':'bold'},\n",
    "                  sizes=detalhe_c_com_dados.VALOR, color = colors, alpha=.4)\n",
    "    plt.title(\"Valor contas por favorecidos acima do limite superior\",fontsize=14,fontweight=\"bold\")\n",
    "    plt.axis('off')\n",
    "    plt.gcf()\n",
    "    plt.show()\n",
    "\n",
    "    return;"
   ]
  },
  {
   "cell_type": "code",
   "execution_count": 57,
   "metadata": {
    "scrolled": true
   },
   "outputs": [],
   "source": [
    "#Criando função para gerar tabela com detalhes dos favorecidos acima do limite superior\n",
    "def fun_tab_detalhe_e():\n",
    "    soma_por_favorecido = detalhe_a[['CNPJ_CPF_FAVORECIDO', 'VALOR']].groupby(('CNPJ_CPF_FAVORECIDO'),as_index=False).sum()\n",
    "    max_por_favorecido = detalhe_a[['CNPJ_CPF_FAVORECIDO', 'VALOR']].groupby(('CNPJ_CPF_FAVORECIDO'),as_index=False).max()\n",
    "    min_por_favorecido = detalhe_a[['CNPJ_CPF_FAVORECIDO', 'VALOR']].groupby(('CNPJ_CPF_FAVORECIDO'),as_index=False).min()\n",
    "    \n",
    "    soma_por_favorecido = soma_por_favorecido.rename(columns={\"VALOR\":\"SOMA_VALOR\", 'CNPJ_CPF_FAVORECIDO':'CNPJ_CPF_FAVORECIDO'})\n",
    "    max_por_favorecido = max_por_favorecido.rename(columns={\"VALOR\":\"MAX_VALOR\", 'CNPJ_CPF_FAVORECIDO':'CNPJ_CPF_FAVORECIDO'})\n",
    "    min_por_favorecido = min_por_favorecido.rename(columns={\"VALOR\":\"MIN_VALOR\", 'CNPJ_CPF_FAVORECIDO':'CNPJ_CPF_FAVORECIDO'})\n",
    "    \n",
    "    max_min = pd.merge(max_por_favorecido, min_por_favorecido, on='CNPJ_CPF_FAVORECIDO', how='left')\n",
    "    \n",
    "    detalhe_e = pd.merge(detalhe_c_com_dados, max_min, left_on='CNPJ_CPF_FAVORECIDO', right_on='CNPJ_CPF_FAVORECIDO', how='inner')\n",
    "    #detalhe_e = detalhe_e.drop(['CODIGO'], axis=1)\n",
    "    \n",
    "    display(HTML(detalhe_e.sort_values(by='VALOR', ascending=False).to_html(index=False)))\n",
    "        \n",
    "    return;"
   ]
  },
  {
   "cell_type": "code",
   "execution_count": 58,
   "metadata": {},
   "outputs": [],
   "source": [
    "#Listando CNPJ_CPF_FAVORECIDO para consultas externas\n",
    "def lista_cnpj_para_consultar():\n",
    "    lista_cnpjs_para_analisar = pd.Series(detalhe_c_com_dados['CNPJ_CPF_FAVORECIDO'].unique()).to_list()\n",
    "    #lista_cnpjs_para_analisar_2 = lista_cnpjs_para_analisar.split(\",\")\n",
    "    return print('\\nLista dos cnpjs exibidos, para consultas externas:', lista_cnpjs_para_analisar, '\\n')"
   ]
  },
  {
   "cell_type": "code",
   "execution_count": 59,
   "metadata": {
    "scrolled": false
   },
   "outputs": [],
   "source": [
    "#Criando função que unifica as demais de detalhamento\n",
    "def consultar():\n",
    "    \n",
    "    fun_detalhe_a()\n",
    "    fun_limite_superior()\n",
    "    fun_detalhe_c_com_dados()\n",
    "    fun_tab_detalhe_e()\n",
    "    lista_cnpj_para_consultar()\n",
    "    return;"
   ]
  },
  {
   "cell_type": "code",
   "execution_count": 60,
   "metadata": {},
   "outputs": [],
   "source": [
    "ALL = 'ALL'\n",
    "def unique_sorted_values_plus_ALL(array):\n",
    "    unique = array.unique().tolist()\n",
    "    unique.sort()\n",
    "    unique.insert(0, ALL)\n",
    "    return unique"
   ]
  },
  {
   "cell_type": "code",
   "execution_count": 61,
   "metadata": {},
   "outputs": [],
   "source": [
    "#Criando dropdowns\n",
    "def dropdowns():\n",
    "    global dropdown_tipo_favorecido,  dropdown_tipo_pagamento \n",
    "    global output_tipos, plot_output_favorecido, plot_output_pagamento, detalhamento\n",
    "\n",
    "    contas = carregar_base()\n",
    "    dropdown_tipo_favorecido = widgets.Dropdown(options = unique_sorted_values_plus_ALL(contas.TIPO_FAVORECIDO_DESCRICAO))\n",
    "    dropdown_tipo_pagamento = widgets.Dropdown(options = unique_sorted_values_plus_ALL(contas.TIPO_PAGAMENTO_DESCRICAO.astype('str')))\n",
    "\n",
    "        \n",
    "    output_tipos = widgets.Output()\n",
    "    plot_output_favorecido = widgets.Output()\n",
    "    plot_output_pagamento = widgets.Output()\n",
    "    detalhamento = widgets.Output()\n",
    "    \n",
    "    return;"
   ]
  },
  {
   "cell_type": "code",
   "execution_count": 62,
   "metadata": {},
   "outputs": [],
   "source": [
    "#Transformando dropdowns em filtros\n",
    "def common_filtering(tipo_favorecido, tipo_pagamento):\n",
    "    global common_filter\n",
    "    global contas_selecionadas_usuario\n",
    "    \n",
    "    output_tipos.clear_output()\n",
    "    plot_output_favorecido.clear_output()\n",
    "    plot_output_pagamento.clear_output()\n",
    "    detalhamento.clear_output()\n",
    "    \n",
    "    if (tipo_favorecido == ALL) & (tipo_pagamento == ALL):\n",
    "        common_filter = contas\n",
    "    elif (tipo_favorecido == ALL):\n",
    "        common_filter = contas[contas.TIPO_PAGAMENTO_DESCRICAO == tipo_pagamento]\n",
    "    elif (tipo_pagamento == ALL):\n",
    "        common_filter = contas[contas.TIPO_FAVORECIDO_DESCRICAO == tipo_favorecido]\n",
    "    else:\n",
    "        common_filter = contas[(contas.TIPO_FAVORECIDO_DESCRICAO == tipo_favorecido) & \n",
    "                                  (contas.TIPO_PAGAMENTO_DESCRICAO == tipo_pagamento)]\n",
    "    contas_selecionadas_usuario = common_filter\n",
    "    \n",
    "    with output_tipos:\n",
    "        display(common_filter)\n",
    "    with plot_output_favorecido:\n",
    "        fig2 = contas_selecionadas_usuario.groupby(['TIPO_FAVORECIDO_DESCRICAO'])[['VALOR']].sum().iplot(kind='bar', color='#008295', xTitle='Tipo de favorecido', yTitle='Soma', title='Valor total por tipo de favorecido')\n",
    "    with plot_output_pagamento:\n",
    "        fig1 = contas_selecionadas_usuario.groupby(['TIPO_PAGAMENTO_DESCRICAO'])[['VALOR']].sum().iplot(kind='bar', color='#008295', xTitle='Tipo de pagamento', yTitle='Soma', title='Valor total por tipo de pagamento')\n",
    "    with detalhamento:\n",
    "        consultar()"
   ]
  },
  {
   "cell_type": "code",
   "execution_count": 63,
   "metadata": {},
   "outputs": [],
   "source": [
    "#Criando relação de filtros para ambos dropdowns criados\n",
    "def dropdown_tipo_favorecido_eventhandler(change):\n",
    "    common_filtering(change.new, dropdown_tipo_pagamento.value)\n",
    "def dropdown_tipo_pagamento_eventhandler(change):\n",
    "    common_filtering(dropdown_tipo_favorecido.value, change.new)"
   ]
  },
  {
   "cell_type": "code",
   "execution_count": 64,
   "metadata": {},
   "outputs": [],
   "source": [
    "\n",
    "botao_iniciar_resultado = widgets.Output(layout={'border': '1px solid black'})\n",
    "\n",
    "@botao_iniciar_resultado.capture(clear_output=True)\n",
    "def iniciando(event):\n",
    "    print('Você clicou no botão iniciar')\n",
    "    dropdowns()\n",
    "    resultado_dropdowns()\n",
    "    layouts_widgets()\n",
    "    return 1.0 \n",
    "\n",
    "botao_iniciar = widgets.Button(\n",
    "    description='Carregar base selecionada',\n",
    "    layout={'width': '200px'}\n",
    ")\n",
    "botao_iniciar.on_click(iniciando)\n",
    "\n",
    "##até aqui, 06s"
   ]
  },
  {
   "cell_type": "code",
   "execution_count": 65,
   "metadata": {},
   "outputs": [],
   "source": [
    "def resultado_dropdowns():\n",
    "    dropdown_tipo_favorecido.observe(dropdown_tipo_favorecido_eventhandler, names='value')\n",
    "    dropdown_tipo_pagamento.observe(dropdown_tipo_pagamento_eventhandler, names='value')\n",
    "    return;"
   ]
  },
  {
   "cell_type": "code",
   "execution_count": 66,
   "metadata": {},
   "outputs": [],
   "source": [
    "def layouts_widgets():\n",
    "    global item_layout, input_widgets\n",
    "    item_layout = widgets.Layout(margin='0 0 50px 0')\n",
    "    input_widgets = widgets.HBox([dropdown_tipo_favorecido, dropdown_tipo_pagamento], layout=item_layout)\n",
    "    return;"
   ]
  },
  {
   "cell_type": "code",
   "execution_count": 67,
   "metadata": {},
   "outputs": [],
   "source": [
    "def exibir_resultados():\n",
    "    layouts_widgets()\n",
    "    tab = widgets.Tab([output_tipos, plot_output_favorecido, plot_output_pagamento, detalhamento], layout=item_layout)\n",
    "    tab.set_title(0, 'Visualização da base de dados')\n",
    "    tab.set_title(1, 'Totais por favorecido')\n",
    "    tab.set_title(2, 'Totais por pagamento')\n",
    "    tab.set_title(3, 'Detalhamento')\n",
    "    dashboard = widgets.VBox([input_widgets, tab])\n",
    "    display(dashboard)\n",
    "    return;"
   ]
  },
  {
   "cell_type": "code",
   "execution_count": 68,
   "metadata": {},
   "outputs": [],
   "source": [
    "#Exibir o botão para escolha do ano    \n",
    "def exibir_botao_ano_e_carregar():\n",
    "    stats = interact(show_stats_by_tag,ano=widgets.ToggleButtons(options=['2020','2019', '2018']))\n",
    "    return;"
   ]
  },
  {
   "cell_type": "markdown",
   "metadata": {
    "scrolled": false
   },
   "source": [
    "<font color='darkblue'>\n",
    "<br><br><br><b>Detalhamento de contas:</b><br><br>\n",
    "</font>"
   ]
  },
  {
   "cell_type": "code",
   "execution_count": 69,
   "metadata": {},
   "outputs": [
    {
     "data": {
      "application/vnd.jupyter.widget-view+json": {
       "model_id": "532449de9b6440c59eccda05153f3c45",
       "version_major": 2,
       "version_minor": 0
      },
      "text/plain": [
       "interactive(children=(ToggleButtons(description='ano', options=('2020', '2019', '2018'), value='2020'), Output…"
      ]
     },
     "metadata": {},
     "output_type": "display_data"
    },
    {
     "data": {
      "application/vnd.jupyter.widget-view+json": {
       "model_id": "5968e1e84881411781d7aada77a5748a",
       "version_major": 2,
       "version_minor": 0
      },
      "text/plain": [
       "Button(description='Carregar base selecionada', layout=Layout(width='200px'), style=ButtonStyle())"
      ]
     },
     "metadata": {},
     "output_type": "display_data"
    }
   ],
   "source": [
    "exibir_botao_ano_e_carregar()\n",
    "botao_iniciar"
   ]
  },
  {
   "cell_type": "markdown",
   "metadata": {},
   "source": [
    "<font color='darkblue'>\n",
    "<b><br>Executar todas as células anteriores. Após concluído o carregamento da base, executar célula seguinte.<br></b><br>\n",
    "</font>"
   ]
  },
  {
   "cell_type": "code",
   "execution_count": 83,
   "metadata": {
    "scrolled": false
   },
   "outputs": [
    {
     "data": {
      "application/vnd.jupyter.widget-view+json": {
       "model_id": "5bb1494e6f294d0a82015370296f9c04",
       "version_major": 2,
       "version_minor": 0
      },
      "text/plain": [
       "VBox(children=(HBox(children=(Dropdown(options=('ALL', 'COLABORADOR', 'CONCESSIONARIA', 'FORNECEDOR', 'IMOBILI…"
      ]
     },
     "metadata": {},
     "output_type": "display_data"
    },
    {
     "data": {
      "text/plain": [
       "<Figure size 432x288 with 0 Axes>"
      ]
     },
     "metadata": {},
     "output_type": "display_data"
    },
    {
     "data": {
      "text/plain": [
       "<Figure size 432x288 with 0 Axes>"
      ]
     },
     "metadata": {},
     "output_type": "display_data"
    }
   ],
   "source": [
    "exibir_resultados()"
   ]
  },
  {
   "cell_type": "code",
   "execution_count": null,
   "metadata": {},
   "outputs": [],
   "source": []
  }
 ],
 "metadata": {
  "kernelspec": {
   "display_name": "Python 3",
   "language": "python",
   "name": "python3"
  },
  "language_info": {
   "codemirror_mode": {
    "name": "ipython",
    "version": 3
   },
   "file_extension": ".py",
   "mimetype": "text/x-python",
   "name": "python",
   "nbconvert_exporter": "python",
   "pygments_lexer": "ipython3",
   "version": "3.6.5"
  }
 },
 "nbformat": 4,
 "nbformat_minor": 2
}
